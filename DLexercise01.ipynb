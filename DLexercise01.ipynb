{
  "nbformat": 4,
  "nbformat_minor": 0,
  "metadata": {
    "colab": {
      "provenance": [],
      "gpuType": "T4"
    },
    "kernelspec": {
      "name": "python3",
      "display_name": "Python 3"
    },
    "language_info": {
      "name": "python"
    },
    "accelerator": "GPU",
    "gpuClass": "standard"
  },
  "cells": [
    {
      "cell_type": "markdown",
      "source": [
        "You can use code and models which are publicly available, please clearly reference all sources and tools. Please give a link to your code (e.g. colab). The length of the answer is limited to one page in total for the description of both parts including images. Please provide: short description what you did, how it is done, what is the result. Please be prepared to present the solution in the exercises.\n",
        "1. Take the Fashion MNIST data set and a suitable model architecture. Display the effect of the choice of the activation function, i.e., investigate different learning and generalization behavior if sgd or a modern activation function (e.g. relu, selu, ...) is used. Compare the behavior of at least three different acivation functions.\n",
        "2. Take the same setup and the ADAM optimizer, display the result of the choice of different batch sizes for mini-batch training. Take at least three choices and shortly discuss the differences."
      ],
      "metadata": {
        "id": "Zev2i7gDw27X"
      }
    },
    {
      "cell_type": "code",
      "source": [
        "import tensorflow as tf\n",
        "import numpy as np\n",
        "import matplotlib.pyplot as plt\n",
        "\n",
        "#loading the fashion mnist data set\n",
        "fmnist = tf.keras.datasets.fashion_mnist\n",
        "(training_images, training_labels), (test_images, test_labels) = fmnist.load_data()\n",
        "\n",
        "\n",
        "\n"
      ],
      "metadata": {
        "colab": {
          "base_uri": "https://localhost:8080/"
        },
        "id": "Y2ksk8uSw6yK",
        "outputId": "5f805b8d-16a7-4370-a973-72b247faa839"
      },
      "execution_count": null,
      "outputs": [
        {
          "output_type": "stream",
          "name": "stdout",
          "text": [
            "Downloading data from https://storage.googleapis.com/tensorflow/tf-keras-datasets/train-labels-idx1-ubyte.gz\n",
            "29515/29515 [==============================] - 0s 0us/step\n",
            "Downloading data from https://storage.googleapis.com/tensorflow/tf-keras-datasets/train-images-idx3-ubyte.gz\n",
            "26421880/26421880 [==============================] - 0s 0us/step\n",
            "Downloading data from https://storage.googleapis.com/tensorflow/tf-keras-datasets/t10k-labels-idx1-ubyte.gz\n",
            "5148/5148 [==============================] - 0s 0us/step\n",
            "Downloading data from https://storage.googleapis.com/tensorflow/tf-keras-datasets/t10k-images-idx3-ubyte.gz\n",
            "4422102/4422102 [==============================] - 0s 0us/step\n"
          ]
        }
      ]
    },
    {
      "cell_type": "code",
      "source": [
        "#printing sample label and image at random index\n",
        "index = 5500\n",
        "\n",
        "#to determine the way flaoting point number, arrays and other numoy objects are displayed.\n",
        "np.set_printoptions(linewidth=320)\n",
        "\n",
        "print(f'Label: {training_labels[index]}')\n",
        "print(f'\\n image pixel array \\n: {training_images[index]}')\n",
        "\n",
        "#visualize the image\n",
        "plt.imshow(training_images[index])"
      ],
      "metadata": {
        "colab": {
          "base_uri": "https://localhost:8080/",
          "height": 974
        },
        "id": "colvwZa_0WJi",
        "outputId": "ed88401c-bf68-42e4-ac95-c3e6251a6fea"
      },
      "execution_count": null,
      "outputs": [
        {
          "output_type": "stream",
          "name": "stdout",
          "text": [
            "Label: 7\n",
            "\n",
            " image pixel array \n",
            ": [[  0   0   0   0   0   0   0   0   0   0   0   0   0   0   0   0   0   0   0   0   0   0   0   0   0   0   0   0]\n",
            " [  0   0   0   0   0   0   0   0   0   0   0   0   0   0   0   0   0   0   0   0   0   0   0   0   0   0   0   0]\n",
            " [  0   0   0   0   0   0   0   0   0   0   0   0   0   0   0   0   0   0   0   0   0   0   0   0   0   0   0   0]\n",
            " [  0   0   0   0   0   0   0   0   0   0   0   0   0   0   0   0   0   0   0   0   0   0   0   0   0   0   0   0]\n",
            " [  0   0   0   0   0   0   0   0   0   0   0   0   0   0   0   0   0   0   0   0   0   0   0   0   0   0   0   0]\n",
            " [  0   0   0   0   0   0   0   0   0   0   0   0   0   0   0   0   0   0   0   0   0   0   0   0   0   0   0   0]\n",
            " [  0   0   0   0   0   0   0   0   0   0   0   0   0   0   0   0   0   0   0   0   0   0   0   0   0   0   0   0]\n",
            " [  0   0   0   0   0   0   0   0   0   0   0   0   0   0   0   0   0   0   0   0   0   0   0   0   0   0   0   0]\n",
            " [  0   0   0   0   0   0   0   0   0   0   0   0   0   0   0   0   0   0   0   0   0   0   0   0   0   0   0   0]\n",
            " [  0   0   0   0   0   0   0   0   0   4   3   0   0   0   0  35 140 168 129  70   0   0   0   0   0   0  18   0]\n",
            " [  0   0   0   0   0   0   1   3   1   0   0   0  69 120 212 225 170 182 174 178 163   0   0   0   0 111  58   7]\n",
            " [  0   0   0   0   0   0   0   0   0  35 122 164 187 197  88  29 207 110 188 211 185 168  69   0 123 171   0   0]\n",
            " [  0   3   3   3   3   0   0   0 115 185 173 127 177  79   0 236 157   0   0 214 218 196 196 217 212 214 166   1]\n",
            " [  0   0   0   0   0   0  94 237 197 174  29 156 213   0 120 255  72   0   0   0 172 213 200 223  12 159 221 103]\n",
            " [  0  33  70  13   9   0   0  13 154 176 172  70 223 171   0  90 255 106   2   7   0 178 202 225  96 147 214  79]\n",
            " [  0 163 218 182 166 165 121   0 132 181 180 169 171 202 182 173 194 208 196 200 209 189 180 181 194 193 207  91]\n",
            " [  4  54 109 164 187 196 205 255 210 209 214 219 219 215 223 223 219 217 217 220 223 227 216 218 214 207 255  88]\n",
            " [ 16  67  15   0   0   0   9  26  52  69  96 109 107 100  88  73  62  53  56  46  39  53  51  33  21   2   0   0]\n",
            " [  0   9  49  74  62  87  93  50  28  16   0   0   0   0   0   0   0   0   0   8  45  46  35  38  49  67  81  45]\n",
            " [  1   0   0   0   8  66  97 101 123 136 103  61  61  62  63  57  55  52  61  76 105 114 107 106 105  92  80  23]\n",
            " [  0   0   0   0   0   0   0   0   0   0   0   0   0   0   0   0   0   0   0   0   0   0   0   0   0   0   0   0]\n",
            " [  0   0   0   0   0   0   0   0   0   0   0   0   0   0   0   0   0   0   0   0   0   0   0   0   0   0   0   0]\n",
            " [  0   0   0   0   0   0   0   0   0   0   0   0   0   0   0   0   0   0   0   0   0   0   0   0   0   0   0   0]\n",
            " [  0   0   0   0   0   0   0   0   0   0   0   0   0   0   0   0   0   0   0   0   0   0   0   0   0   0   0   0]\n",
            " [  0   0   0   0   0   0   0   0   0   0   0   0   0   0   0   0   0   0   0   0   0   0   0   0   0   0   0   0]\n",
            " [  0   0   0   0   0   0   0   0   0   0   0   0   0   0   0   0   0   0   0   0   0   0   0   0   0   0   0   0]\n",
            " [  0   0   0   0   0   0   0   0   0   0   0   0   0   0   0   0   0   0   0   0   0   0   0   0   0   0   0   0]\n",
            " [  0   0   0   0   0   0   0   0   0   0   0   0   0   0   0   0   0   0   0   0   0   0   0   0   0   0   0   0]]\n"
          ]
        },
        {
          "output_type": "execute_result",
          "data": {
            "text/plain": [
              "<matplotlib.image.AxesImage at 0x7f89a4fdb490>"
            ]
          },
          "metadata": {},
          "execution_count": 2
        },
        {
          "output_type": "display_data",
          "data": {
            "text/plain": [
              "<Figure size 640x480 with 1 Axes>"
            ],
            "image/png": "[encoded data removed]"
          },
          "metadata": {}
        }
      ]
    },
    {
      "cell_type": "code",
      "source": [
        "# Normalize the pixel values of the train and test images\n",
        "training_images  = training_images / 255.0\n",
        "test_images = test_images / 255.0"
      ],
      "metadata": {
        "id": "2cuWr7T74s7h"
      },
      "execution_count": null,
      "outputs": []
    },
    {
      "cell_type": "code",
      "source": [
        "#designing the model\n",
        "\n",
        "#our data is 28x28 images, and 28 layers of 28 neurons would be infeasible, so it makes more sense to 'flatten' that 28x28 convert into a 784x1.\n",
        "model = tf.keras.models.Sequential([tf.keras.layers.Conv2D(64, (3,3), activation='relu', input_shape=(28, 28, 1)),\n",
        "                                    tf.keras.layers.MaxPooling2D(2, 2),\n",
        "                                    tf.keras.layers.Conv2D(64, (3,3), activation='relu'),\n",
        "                                    tf.keras.layers.MaxPooling2D(2,2),\n",
        "                                    tf.keras.layers.Flatten(),\n",
        "                                    tf.keras.layers.Dense(128, activation=tf.nn.relu), # 1st input = dimensionality of outer space\n",
        "                                    tf.keras.layers.Dense(10, activation=tf.nn.relu)\n",
        "                                  ])\n",
        "\n",
        "model.summary()\n",
        "\n",
        "model.compile(optimizer='adam', loss='sparse_categorical_crossentropy', metrics=['accuracy'])\n",
        "model.fit(training_images, training_labels, epochs=10)\n",
        "print(f'\\nMODEL EVALUATION:')\n",
        "test_loss = model.evaluate(test_images, test_labels)"
      ],
      "metadata": {
        "colab": {
          "base_uri": "https://localhost:8080/"
        },
        "id": "w_xbH-eA6edw",
        "outputId": "de2cafbd-514b-48b9-bcef-73a974f324e9"
      },
      "execution_count": null,
      "outputs": [
        {
          "output_type": "stream",
          "name": "stdout",
          "text": [
            "Model: \"sequential_5\"\n",
            "_________________________________________________________________\n",
            " Layer (type)                Output Shape              Param #   \n",
            "=================================================================\n",
            " conv2d_10 (Conv2D)          (None, 26, 26, 64)        640       \n",
            "                                                                 \n",
            " max_pooling2d_10 (MaxPoolin  (None, 13, 13, 64)       0         \n",
            " g2D)                                                            \n",
            "                                                                 \n",
            " conv2d_11 (Conv2D)          (None, 11, 11, 64)        36928     \n",
            "                                                                 \n",
            " max_pooling2d_11 (MaxPoolin  (None, 5, 5, 64)         0         \n",
            " g2D)                                                            \n",
            "                                                                 \n",
            " flatten_5 (Flatten)         (None, 1600)              0         \n",
            "                                                                 \n",
            " dense_10 (Dense)            (None, 128)               204928    \n",
            "                                                                 \n",
            " dense_11 (Dense)            (None, 10)                1290      \n",
            "                                                                 \n",
            "=================================================================\n",
            "Total params: 243,786\n",
            "Trainable params: 243,786\n",
            "Non-trainable params: 0\n",
            "_________________________________________________________________\n",
            "Epoch 1/10\n",
            "1875/1875 [==============================] - 9s 4ms/step - loss: 2.4476 - accuracy: 0.1056\n",
            "Epoch 2/10\n",
            "1875/1875 [==============================] - 9s 5ms/step - loss: 2.3026 - accuracy: 0.1000\n",
            "Epoch 3/10\n",
            "1875/1875 [==============================] - 10s 5ms/step - loss: 2.3026 - accuracy: 0.1000\n",
            "Epoch 4/10\n",
            "1875/1875 [==============================] - 7s 4ms/step - loss: 2.3026 - accuracy: 0.1000\n",
            "Epoch 5/10\n",
            "1875/1875 [==============================] - 10s 5ms/step - loss: 2.3026 - accuracy: 0.1000\n",
            "Epoch 6/10\n",
            "1875/1875 [==============================] - 11s 6ms/step - loss: 2.3026 - accuracy: 0.1000\n",
            "Epoch 7/10\n",
            "1875/1875 [==============================] - 7s 4ms/step - loss: 2.3026 - accuracy: 0.1000\n",
            "Epoch 8/10\n",
            "1875/1875 [==============================] - 8s 4ms/step - loss: 2.3026 - accuracy: 0.1000\n",
            "Epoch 9/10\n",
            "1875/1875 [==============================] - 11s 6ms/step - loss: 2.3026 - accuracy: 0.1000\n",
            "Epoch 10/10\n",
            "1875/1875 [==============================] - 9s 5ms/step - loss: 2.3026 - accuracy: 0.1000\n",
            "\n",
            "MODEL EVALUATION:\n",
            "313/313 [==============================] - 1s 3ms/step - loss: 2.3026 - accuracy: 0.1000\n"
          ]
        }
      ]
    },
    {
      "cell_type": "code",
      "source": [
        "#designing the model\n",
        "\n",
        "#our data is 28x28 images, and 28 layers of 28 neurons would be infeasible, so it makes more sense to 'flatten' that 28x28 convert into a 784x1.\n",
        "model = tf.keras.models.Sequential([tf.keras.layers.Conv2D(64, (3,3), activation='softmax', input_shape=(28, 28, 1)),\n",
        "                                    tf.keras.layers.MaxPooling2D(2, 2),\n",
        "                                    tf.keras.layers.Conv2D(64, (3,3), activation='softmax'),\n",
        "                                    tf.keras.layers.MaxPooling2D(2,2),\n",
        "                                    tf.keras.layers.Flatten(),\n",
        "                                    tf.keras.layers.Dense(128, activation=tf.nn.softmax), # 1st input = dimensionality of outer space\n",
        "                                    tf.keras.layers.Dense(10, activation=tf.nn.softmax)\n",
        "                                  ])\n",
        "\n",
        "model.summary()\n",
        "\n",
        "model.compile(optimizer='adam', loss='sparse_categorical_crossentropy', metrics=['accuracy'])\n",
        "model.fit(training_images, training_labels, epochs=10)\n",
        "print(f'\\nMODEL EVALUATION:')\n",
        "test_loss = model.evaluate(test_images, test_labels)\n"
      ],
      "metadata": {
        "colab": {
          "base_uri": "https://localhost:8080/"
        },
        "id": "p82dtbo3Et29",
        "outputId": "dc01ac00-8909-4398-bd7c-45cb2ad4f48f"
      },
      "execution_count": null,
      "outputs": [
        {
          "output_type": "stream",
          "name": "stdout",
          "text": [
            "Model: \"sequential_7\"\n",
            "_________________________________________________________________\n",
            " Layer (type)                Output Shape              Param #   \n",
            "=================================================================\n",
            " conv2d_14 (Conv2D)          (None, 26, 26, 64)        640       \n",
            "                                                                 \n",
            " max_pooling2d_14 (MaxPoolin  (None, 13, 13, 64)       0         \n",
            " g2D)                                                            \n",
            "                                                                 \n",
            " conv2d_15 (Conv2D)          (None, 11, 11, 64)        36928     \n",
            "                                                                 \n",
            " max_pooling2d_15 (MaxPoolin  (None, 5, 5, 64)         0         \n",
            " g2D)                                                            \n",
            "                                                                 \n",
            " flatten_7 (Flatten)         (None, 1600)              0         \n",
            "                                                                 \n",
            " dense_14 (Dense)            (None, 128)               204928    \n",
            "                                                                 \n",
            " dense_15 (Dense)            (None, 10)                1290      \n",
            "                                                                 \n",
            "=================================================================\n",
            "Total params: 243,786\n",
            "Trainable params: 243,786\n",
            "Non-trainable params: 0\n",
            "_________________________________________________________________\n",
            "Epoch 1/10\n",
            "1875/1875 [==============================] - 9s 4ms/step - loss: 1.7470 - accuracy: 0.3541\n",
            "Epoch 2/10\n",
            "1875/1875 [==============================] - 6s 3ms/step - loss: 1.2144 - accuracy: 0.4800\n",
            "Epoch 3/10\n",
            "1875/1875 [==============================] - 7s 4ms/step - loss: 1.0822 - accuracy: 0.5497\n",
            "Epoch 4/10\n",
            "1875/1875 [==============================] - 7s 3ms/step - loss: 0.9962 - accuracy: 0.6063\n",
            "Epoch 5/10\n",
            "1875/1875 [==============================] - 7s 4ms/step - loss: 0.8254 - accuracy: 0.7227\n",
            "Epoch 6/10\n",
            "1875/1875 [==============================] - 7s 4ms/step - loss: 0.7367 - accuracy: 0.7517\n",
            "Epoch 7/10\n",
            "1875/1875 [==============================] - 7s 4ms/step - loss: 0.6850 - accuracy: 0.7658\n",
            "Epoch 8/10\n",
            "1875/1875 [==============================] - 7s 4ms/step - loss: 0.6490 - accuracy: 0.7738\n",
            "Epoch 9/10\n",
            "1875/1875 [==============================] - 6s 3ms/step - loss: 0.6231 - accuracy: 0.7787\n",
            "Epoch 10/10\n",
            "1875/1875 [==============================] - 7s 4ms/step - loss: 0.6025 - accuracy: 0.7832\n",
            "\n",
            "MODEL EVALUATION:\n",
            "313/313 [==============================] - 1s 3ms/step - loss: 0.6335 - accuracy: 0.7541\n"
          ]
        }
      ]
    },
    {
      "cell_type": "code",
      "source": [
        "#designing the model\n",
        "\n",
        "#our data is 28x28 images, and 28 layers of 28 neurons would be infeasible, so it makes more sense to 'flatten' that 28x28 convert into a 784x1.\n",
        "model = tf.keras.models.Sequential([tf.keras.layers.Conv2D(64, (3,3), activation='selu', input_shape=(28, 28, 1)),\n",
        "                                    tf.keras.layers.MaxPooling2D(2, 2),\n",
        "                                    tf.keras.layers.Conv2D(64, (3,3), activation='selu'),\n",
        "                                    tf.keras.layers.MaxPooling2D(2,2),\n",
        "                                    tf.keras.layers.Flatten(),\n",
        "                                    tf.keras.layers.Dense(128, activation=tf.nn.selu), # 1st input = dimensionality of outer space\n",
        "                                    tf.keras.layers.Dense(10, activation=tf.nn.selu)\n",
        "                                  ])\n",
        "\n",
        "model.summary()\n",
        "\n",
        "model.compile(optimizer='adam', loss='sparse_categorical_crossentropy', metrics=['accuracy'])\n",
        "model.fit(training_images, training_labels, epochs=10)\n",
        "print(f'\\nMODEL EVALUATION:')\n",
        "test_loss = model.evaluate(test_images, test_labels)"
      ],
      "metadata": {
        "colab": {
          "base_uri": "https://localhost:8080/"
        },
        "id": "6fvS9AUQG0oV",
        "outputId": "5a8af770-3d95-4fa9-91f2-509168bf0884"
      },
      "execution_count": null,
      "outputs": [
        {
          "output_type": "stream",
          "name": "stdout",
          "text": [
            "Model: \"sequential_6\"\n",
            "_________________________________________________________________\n",
            " Layer (type)                Output Shape              Param #   \n",
            "=================================================================\n",
            " conv2d_12 (Conv2D)          (None, 26, 26, 64)        640       \n",
            "                                                                 \n",
            " max_pooling2d_12 (MaxPoolin  (None, 13, 13, 64)       0         \n",
            " g2D)                                                            \n",
            "                                                                 \n",
            " conv2d_13 (Conv2D)          (None, 11, 11, 64)        36928     \n",
            "                                                                 \n",
            " max_pooling2d_13 (MaxPoolin  (None, 5, 5, 64)         0         \n",
            " g2D)                                                            \n",
            "                                                                 \n",
            " flatten_6 (Flatten)         (None, 1600)              0         \n",
            "                                                                 \n",
            " dense_12 (Dense)            (None, 128)               204928    \n",
            "                                                                 \n",
            " dense_13 (Dense)            (None, 10)                1290      \n",
            "                                                                 \n",
            "=================================================================\n",
            "Total params: 243,786\n",
            "Trainable params: 243,786\n",
            "Non-trainable params: 0\n",
            "_________________________________________________________________\n",
            "Epoch 1/10\n",
            "1875/1875 [==============================] - 10s 4ms/step - loss: 3.1441 - accuracy: 0.2473\n",
            "Epoch 2/10\n",
            "1875/1875 [==============================] - 7s 4ms/step - loss: 2.3687 - accuracy: 0.1409\n",
            "Epoch 3/10\n",
            "1875/1875 [==============================] - 8s 4ms/step - loss: 2.3029 - accuracy: 0.1022\n",
            "Epoch 4/10\n",
            "1875/1875 [==============================] - 7s 4ms/step - loss: 2.3029 - accuracy: 0.1022\n",
            "Epoch 5/10\n",
            "1875/1875 [==============================] - 8s 4ms/step - loss: 2.3029 - accuracy: 0.1022\n",
            "Epoch 6/10\n",
            "1875/1875 [==============================] - 7s 4ms/step - loss: 2.3029 - accuracy: 0.1022\n",
            "Epoch 7/10\n",
            "1875/1875 [==============================] - 6s 3ms/step - loss: 2.3029 - accuracy: 0.1022\n",
            "Epoch 8/10\n",
            "1875/1875 [==============================] - 7s 4ms/step - loss: 2.3029 - accuracy: 0.1022\n",
            "Epoch 9/10\n",
            "1875/1875 [==============================] - 7s 4ms/step - loss: 2.3029 - accuracy: 0.1022\n",
            "Epoch 10/10\n",
            "1875/1875 [==============================] - 7s 4ms/step - loss: 2.3029 - accuracy: 0.1022\n",
            "\n",
            "MODEL EVALUATION:\n",
            "313/313 [==============================] - 1s 2ms/step - loss: 2.3024 - accuracy: 0.1018\n"
          ]
        }
      ]
    },
    {
      "cell_type": "code",
      "source": [
        "#designing the model\n",
        "\n",
        "#our data is 28x28 images, and 28 layers of 28 neurons would be infeasible, so it makes more sense to 'flatten' that 28x28 convert into a 784x1.\n",
        "model = tf.keras.models.Sequential([tf.keras.layers.Conv2D(64, (3,3), activation='relu', input_shape=(28, 28, 1)),\n",
        "                                    tf.keras.layers.MaxPooling2D(2, 2),\n",
        "                                    tf.keras.layers.Conv2D(64, (3,3), activation='relu'),\n",
        "                                    tf.keras.layers.MaxPooling2D(2,2),\n",
        "                                    tf.keras.layers.Flatten(),\n",
        "                                    tf.keras.layers.Dense(128, activation=tf.nn.relu), # 1st input = dimensionality of outer space\n",
        "                                    tf.keras.layers.Dense(10, activation=tf.nn.softmax)\n",
        "                                  ])\n",
        "\n",
        "model.summary()\n",
        "\n",
        "model.compile(optimizer='adam', loss='sparse_categorical_crossentropy', metrics=['accuracy'])\n",
        "model.fit(training_images, training_labels, epochs=10)\n",
        "print(f'\\nMODEL EVALUATION:')\n",
        "test_loss = model.evaluate(test_images, test_labels)"
      ],
      "metadata": {
        "colab": {
          "base_uri": "https://localhost:8080/"
        },
        "id": "HjmLt-MYGK3t",
        "outputId": "0fa4e0f7-d38c-4a6e-d365-7bae24e6a1a0"
      },
      "execution_count": null,
      "outputs": [
        {
          "output_type": "stream",
          "name": "stdout",
          "text": [
            "Model: \"sequential_8\"\n",
            "_________________________________________________________________\n",
            " Layer (type)                Output Shape              Param #   \n",
            "=================================================================\n",
            " conv2d_16 (Conv2D)          (None, 26, 26, 64)        640       \n",
            "                                                                 \n",
            " max_pooling2d_16 (MaxPoolin  (None, 13, 13, 64)       0         \n",
            " g2D)                                                            \n",
            "                                                                 \n",
            " conv2d_17 (Conv2D)          (None, 11, 11, 64)        36928     \n",
            "                                                                 \n",
            " max_pooling2d_17 (MaxPoolin  (None, 5, 5, 64)         0         \n",
            " g2D)                                                            \n",
            "                                                                 \n",
            " flatten_8 (Flatten)         (None, 1600)              0         \n",
            "                                                                 \n",
            " dense_16 (Dense)            (None, 128)               204928    \n",
            "                                                                 \n",
            " dense_17 (Dense)            (None, 10)                1290      \n",
            "                                                                 \n",
            "=================================================================\n",
            "Total params: 243,786\n",
            "Trainable params: 243,786\n",
            "Non-trainable params: 0\n",
            "_________________________________________________________________\n",
            "Epoch 1/10\n",
            "1875/1875 [==============================] - 8s 4ms/step - loss: 0.4445 - accuracy: 0.8396\n",
            "Epoch 2/10\n",
            "1875/1875 [==============================] - 7s 4ms/step - loss: 0.2946 - accuracy: 0.8922\n",
            "Epoch 3/10\n",
            "1875/1875 [==============================] - 7s 4ms/step - loss: 0.2485 - accuracy: 0.9083\n",
            "Epoch 4/10\n",
            "1875/1875 [==============================] - 6s 3ms/step - loss: 0.2187 - accuracy: 0.9189\n",
            "Epoch 5/10\n",
            "1875/1875 [==============================] - 7s 4ms/step - loss: 0.1902 - accuracy: 0.9290\n",
            "Epoch 6/10\n",
            "1875/1875 [==============================] - 6s 3ms/step - loss: 0.1688 - accuracy: 0.9353\n",
            "Epoch 7/10\n",
            "1875/1875 [==============================] - 7s 4ms/step - loss: 0.1474 - accuracy: 0.9441\n",
            "Epoch 8/10\n",
            "1875/1875 [==============================] - 6s 3ms/step - loss: 0.1315 - accuracy: 0.9500\n",
            "Epoch 9/10\n",
            "1875/1875 [==============================] - 7s 4ms/step - loss: 0.1176 - accuracy: 0.9555\n",
            "Epoch 10/10\n",
            "1875/1875 [==============================] - 6s 3ms/step - loss: 0.1013 - accuracy: 0.9612\n",
            "\n",
            "MODEL EVALUATION:\n",
            "313/313 [==============================] - 1s 3ms/step - loss: 0.3156 - accuracy: 0.9052\n"
          ]
        }
      ]
    },
    {
      "cell_type": "code",
      "source": [
        "classifications=model.predict(test_images)\n",
        "print(classifications[1])\n",
        "print(test_labels[1])"
      ],
      "metadata": {
        "colab": {
          "base_uri": "https://localhost:8080/"
        },
        "id": "AyRtq07jJOUf",
        "outputId": "c0a602b8-1281-40ca-9590-7d6ff66dfa1d"
      },
      "execution_count": null,
      "outputs": [
        {
          "output_type": "stream",
          "name": "stdout",
          "text": [
            "313/313 [==============================] - 1s 2ms/step\n",
            "[1.99740469e-07 1.15851774e-20 9.99999642e-01 4.43348558e-09 6.74426630e-08 2.68241173e-16 3.64187613e-08 6.32559282e-16 4.18489995e-17 3.80485411e-13]\n",
            "2\n"
          ]
        }
      ]
    },
    {
      "cell_type": "code",
      "source": [
        "# test_image = input image (external)\n",
        "# classifications=model.predict(test_image)\n",
        "# print(classifications[1])\n",
        "# print(test_labels[1])"
      ],
      "metadata": {
        "id": "5hte-BF0KMRk"
      },
      "execution_count": null,
      "outputs": []
    }
  ]
}